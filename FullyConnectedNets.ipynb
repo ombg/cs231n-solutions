{
 "cells": [
  {
   "cell_type": "markdown",
   "metadata": {
    "deletable": true,
    "editable": true,
    "nbpresent": {
     "id": "2f807102-73c6-4c1d-9289-9fd8002f0f20"
    }
   },
   "source": [
    "# Fully-Connected Neural Nets\n",
    "In the previous homework you implemented a fully-connected two-layer neural network on CIFAR-10. The implementation was simple but not very modular since the loss and gradient were computed in a single monolithic function. This is manageable for a simple two-layer network, but would become impractical as we move to bigger models. Ideally we want to build networks using a more modular design so that we can implement different layer types in isolation and then snap them together into models with different architectures.\n",
    "\n",
    "In this exercise we will implement fully-connected networks using a more modular approach. For each layer we will implement a `forward` and a `backward` function. The `forward` function will receive inputs, weights, and other parameters and will return both an output and a `cache` object storing data needed for the backward pass, like this:\n",
    "\n",
    "```python\n",
    "def layer_forward(x, w):\n",
    "  \"\"\" Receive inputs x and weights w \"\"\"\n",
    "  # Do some computations ...\n",
    "  z = # ... some intermediate value\n",
    "  # Do some more computations ...\n",
    "  out = # the output\n",
    "   \n",
    "  cache = (x, w, z, out) # Values we need to compute gradients\n",
    "   \n",
    "  return out, cache\n",
    "```\n",
    "\n",
    "The backward pass will receive upstream derivatives and the `cache` object, and will return gradients with respect to the inputs and weights, like this:\n",
    "\n",
    "```python\n",
    "def layer_backward(dout, cache):\n",
    "  \"\"\"\n",
    "  Receive derivative of loss with respect to outputs and cache,\n",
    "  and compute derivative with respect to inputs.\n",
    "  \"\"\"\n",
    "  # Unpack cache values\n",
    "  x, w, z, out = cache\n",
    "  \n",
    "  # Use values in cache to compute derivatives\n",
    "  dx = # Derivative of loss with respect to x\n",
    "  dw = # Derivative of loss with respect to w\n",
    "  \n",
    "  return dx, dw\n",
    "```\n",
    "\n",
    "After implementing a bunch of layers this way, we will be able to easily combine them to build classifiers with different architectures.\n",
    "\n",
    "In addition to implementing fully-connected networks of arbitrary depth, we will also explore different update rules for optimization, and introduce Dropout as a regularizer and Batch Normalization as a tool to more efficiently optimize deep networks.\n",
    "  "
   ]
  },
  {
   "cell_type": "code",
   "execution_count": 1,
   "metadata": {
    "collapsed": false,
    "deletable": true,
    "editable": true,
    "nbpresent": {
     "id": "c9ae8d2d-70ac-498a-9101-136c4bf5d715"
    }
   },
   "outputs": [],
   "source": [
    "# As usual, a bit of setup\n",
    "from __future__ import print_function\n",
    "import time\n",
    "import numpy as np\n",
    "import matplotlib.pyplot as plt\n",
    "from cs231n.classifiers.fc_net import *\n",
    "from cs231n.data_utils import get_CIFAR10_data\n",
    "from cs231n.gradient_check import eval_numerical_gradient, eval_numerical_gradient_array\n",
    "from cs231n.solver import Solver\n",
    "\n",
    "%matplotlib inline\n",
    "plt.rcParams['figure.figsize'] = (10.0, 8.0) # set default size of plots\n",
    "plt.rcParams['image.interpolation'] = 'nearest'\n",
    "plt.rcParams['image.cmap'] = 'gray'\n",
    "\n",
    "# for auto-reloading external modules\n",
    "# see http://stackoverflow.com/questions/1907993/autoreload-of-modules-in-ipython\n",
    "%load_ext autoreload\n",
    "%autoreload 2\n",
    "\n",
    "def rel_error(x, y):\n",
    "  \"\"\" returns relative error \"\"\"\n",
    "  return np.max(np.abs(x - y) / (np.maximum(1e-8, np.abs(x) + np.abs(y))))"
   ]
  },
  {
   "cell_type": "code",
   "execution_count": 2,
   "metadata": {
    "collapsed": false,
    "deletable": true,
    "editable": true,
    "nbpresent": {
     "id": "4bb82c93-c91f-4012-b571-3efb6562a2ea"
    }
   },
   "outputs": [
    {
     "name": "stdout",
     "output_type": "stream",
     "text": [
      "('y_test: ', (1000,))\n",
      "('y_val: ', (1000,))\n",
      "('X_test: ', (1000, 3, 32, 32))\n",
      "('X_val: ', (1000, 3, 32, 32))\n",
      "('X_train: ', (49000, 3, 32, 32))\n",
      "('y_train: ', (49000,))\n"
     ]
    }
   ],
   "source": [
    "# Load the (preprocessed) CIFAR10 data.\n",
    "\n",
    "data = get_CIFAR10_data()\n",
    "for k, v in list(data.items()):\n",
    "  print(('%s: ' % k, v.shape))"
   ]
  },
  {
   "cell_type": "markdown",
   "metadata": {
    "deletable": true,
    "editable": true,
    "nbpresent": {
     "id": "df85aeba-2aa3-48ce-9610-9d319a6ffd41"
    }
   },
   "source": [
    "# Affine layer: foward\n",
    "Open the file `cs231n/layers.py` and implement the `affine_forward` function.\n",
    "\n",
    "Once you are done you can test your implementaion by running the following:"
   ]
  },
  {
   "cell_type": "code",
   "execution_count": 3,
   "metadata": {
    "collapsed": false,
    "deletable": true,
    "editable": true,
    "nbpresent": {
     "id": "3514695e-fef6-4ea0-bafd-2fc95767cfb9"
    }
   },
   "outputs": [
    {
     "name": "stdout",
     "output_type": "stream",
     "text": [
      "Testing affine_forward function:\n",
      "difference:  9.76985004799e-10\n"
     ]
    }
   ],
   "source": [
    "# Test the affine_forward function\n",
    "\n",
    "num_inputs = 2\n",
    "input_shape = (4, 5, 6)\n",
    "output_dim = 3\n",
    "\n",
    "input_size = num_inputs * np.prod(input_shape)\n",
    "weight_size = output_dim * np.prod(input_shape)\n",
    "\n",
    "x = np.linspace(-0.1, 0.5, num=input_size).reshape(num_inputs, *input_shape)\n",
    "w = np.linspace(-0.2, 0.3, num=weight_size).reshape(np.prod(input_shape), output_dim)\n",
    "b = np.linspace(-0.3, 0.1, num=output_dim)\n",
    "\n",
    "out, _ = affine_forward(x, w, b)\n",
    "correct_out = np.array([[ 1.49834967,  1.70660132,  1.91485297],\n",
    "                        [ 3.25553199,  3.5141327,   3.77273342]])\n",
    "\n",
    "# Compare your output with ours. The error should be around 1e-9.\n",
    "print('Testing affine_forward function:')\n",
    "print('difference: ', rel_error(out, correct_out))"
   ]
  },
  {
   "cell_type": "markdown",
   "metadata": {
    "deletable": true,
    "editable": true,
    "nbpresent": {
     "id": "ccffe6a9-76a5-4d88-bb33-38d2db0a2de9"
    }
   },
   "source": [
    "# Affine layer: backward\n",
    "Now implement the `affine_backward` function and test your implementation using numeric gradient checking."
   ]
  },
  {
   "cell_type": "code",
   "execution_count": 4,
   "metadata": {
    "collapsed": false,
    "deletable": true,
    "editable": true,
    "nbpresent": {
     "id": "46ff47cb-c553-40ee-a39f-136286bd8bac"
    }
   },
   "outputs": [
    {
     "name": "stdout",
     "output_type": "stream",
     "text": [
      "Testing affine_backward function:\n",
      "dx error:  6.98634850437e-11\n",
      "dw error:  9.90402358399e-11\n",
      "db error:  7.73697883449e-12\n"
     ]
    }
   ],
   "source": [
    "# Test the affine_backward function\n",
    "np.random.seed(231)\n",
    "x = np.random.randn(10, 2, 3)\n",
    "w = np.random.randn(6, 5)\n",
    "b = np.random.randn(5)\n",
    "dout = np.random.randn(10, 5)\n",
    "\n",
    "dx_num = eval_numerical_gradient_array(lambda x: affine_forward(x, w, b)[0], x, dout)\n",
    "dw_num = eval_numerical_gradient_array(lambda w: affine_forward(x, w, b)[0], w, dout)\n",
    "db_num = eval_numerical_gradient_array(lambda b: affine_forward(x, w, b)[0], b, dout)\n",
    "\n",
    "_, cache = affine_forward(x, w, b)\n",
    "dx, dw, db = affine_backward(dout, cache)\n",
    "\n",
    "# The error should be around 1e-10\n",
    "print('Testing affine_backward function:')\n",
    "print('dx error: ', rel_error(dx_num, dx))\n",
    "print('dw error: ', rel_error(dw_num, dw))\n",
    "print('db error: ', rel_error(db_num, db))"
   ]
  },
  {
   "cell_type": "markdown",
   "metadata": {
    "deletable": true,
    "editable": true,
    "nbpresent": {
     "id": "4f25ffa9-ac33-4ef0-9c52-52e4ab887655"
    }
   },
   "source": [
    "# ReLU layer: forward\n",
    "Implement the forward pass for the ReLU activation function in the `relu_forward` function and test your implementation using the following:"
   ]
  },
  {
   "cell_type": "code",
   "execution_count": 5,
   "metadata": {
    "collapsed": false,
    "deletable": true,
    "editable": true,
    "nbpresent": {
     "id": "71f8233a-ad1f-4fdb-bafb-bec318e893ab"
    }
   },
   "outputs": [
    {
     "name": "stdout",
     "output_type": "stream",
     "text": [
      "Testing relu_forward function:\n",
      "difference:  4.99999979802e-08\n"
     ]
    }
   ],
   "source": [
    "# Test the relu_forward function\n",
    "\n",
    "x = np.linspace(-0.5, 0.5, num=12).reshape(3, 4)\n",
    "\n",
    "out, _ = relu_forward(x)\n",
    "correct_out = np.array([[ 0.,          0.,          0.,          0.,        ],\n",
    "                        [ 0.,          0.,          0.04545455,  0.13636364,],\n",
    "                        [ 0.22727273,  0.31818182,  0.40909091,  0.5,       ]])\n",
    "\n",
    "# Compare your output with ours. The error should be around 5e-8\n",
    "print('Testing relu_forward function:')\n",
    "print('difference: ', rel_error(out, correct_out))"
   ]
  },
  {
   "cell_type": "markdown",
   "metadata": {
    "deletable": true,
    "editable": true,
    "nbpresent": {
     "id": "f90d8a24-7351-46bf-958c-736921f4c9a3"
    }
   },
   "source": [
    "# ReLU layer: backward\n",
    "Now implement the backward pass for the ReLU activation function in the `relu_backward` function and test your implementation using numeric gradient checking:"
   ]
  },
  {
   "cell_type": "code",
   "execution_count": 6,
   "metadata": {
    "collapsed": false,
    "deletable": true,
    "editable": true,
    "nbpresent": {
     "id": "900e8859-29d5-42de-98f5-10bf2b0ba702"
    }
   },
   "outputs": [
    {
     "name": "stdout",
     "output_type": "stream",
     "text": [
      "Testing relu_backward function:\n",
      "dx error:  3.27563491363e-12\n"
     ]
    }
   ],
   "source": [
    "np.random.seed(231)\n",
    "x = np.random.randn(10, 10)\n",
    "dout = np.random.randn(*x.shape)\n",
    "\n",
    "dx_num = eval_numerical_gradient_array(lambda x: relu_forward(x)[0], x, dout)\n",
    "\n",
    "_, cache = relu_forward(x)\n",
    "dx = relu_backward(dout, cache)\n",
    "\n",
    "# The error should be around 3e-12\n",
    "print('Testing relu_backward function:')\n",
    "print('dx error: ', rel_error(dx_num, dx))"
   ]
  },
  {
   "cell_type": "markdown",
   "metadata": {
    "deletable": true,
    "editable": true,
    "nbpresent": {
     "id": "a34cd77c-e478-4de3-85b1-487d77f3ad9b"
    }
   },
   "source": [
    "# \"Sandwich\" layers\n",
    "There are some common patterns of layers that are frequently used in neural nets. For example, affine layers are frequently followed by a ReLU nonlinearity. To make these common patterns easy, we define several convenience layers in the file `cs231n/layer_utils.py`.\n",
    "\n",
    "For now take a look at the `affine_relu_forward` and `affine_relu_backward` functions, and run the following to numerically gradient check the backward pass:"
   ]
  },
  {
   "cell_type": "code",
   "execution_count": 7,
   "metadata": {
    "collapsed": false,
    "deletable": true,
    "editable": true,
    "nbpresent": {
     "id": "7e3edd8b-b989-480c-a24d-c29620c49e4b"
    }
   },
   "outputs": [
    {
     "name": "stdout",
     "output_type": "stream",
     "text": [
      "Testing affine_relu_forward:\n",
      "dx error:  3.14347471369e-11\n",
      "dw error:  1.4861238458e-10\n",
      "db error:  7.82672402146e-12\n"
     ]
    }
   ],
   "source": [
    "from cs231n.layer_utils import affine_relu_forward, affine_relu_backward\n",
    "np.random.seed(231)\n",
    "x = np.random.randn(2, 3, 4)\n",
    "w = np.random.randn(12, 10)\n",
    "b = np.random.randn(10)\n",
    "dout = np.random.randn(2, 10)\n",
    "\n",
    "out, cache = affine_relu_forward(x, w, b)\n",
    "dx, dw, db = affine_relu_backward(dout, cache)\n",
    "\n",
    "dx_num = eval_numerical_gradient_array(lambda x: affine_relu_forward(x, w, b)[0], x, dout)\n",
    "dw_num = eval_numerical_gradient_array(lambda w: affine_relu_forward(x, w, b)[0], w, dout)\n",
    "db_num = eval_numerical_gradient_array(lambda b: affine_relu_forward(x, w, b)[0], b, dout)\n",
    "\n",
    "print('Testing affine_relu_forward:')\n",
    "print('dx error: ', rel_error(dx_num, dx))\n",
    "print('dw error: ', rel_error(dw_num, dw))\n",
    "print('db error: ', rel_error(db_num, db))"
   ]
  },
  {
   "cell_type": "markdown",
   "metadata": {
    "deletable": true,
    "editable": true
   },
   "source": [
    "# Loss layers: Softmax and SVM\n",
    "You implemented these loss functions in the last assignment, so we'll give them to you for free here. You should still make sure you understand how they work by looking at the implementations in `cs231n/layers.py`.\n",
    "\n",
    "You can make sure that the implementations are correct by running the following:"
   ]
  },
  {
   "cell_type": "code",
   "execution_count": 8,
   "metadata": {
    "collapsed": false,
    "deletable": true,
    "editable": true,
    "nbpresent": {
     "id": "ac48cb39-fe0c-49a8-94c5-045bea2fb049"
    }
   },
   "outputs": [
    {
     "name": "stdout",
     "output_type": "stream",
     "text": [
      "Testing svm_loss:\n",
      "loss:  8.9996027491\n",
      "dx error:  1.40215660067e-09\n",
      "\n",
      "Testing softmax_loss:\n",
      "loss:  2.3025458445\n",
      "dx error:  9.38467316199e-09\n"
     ]
    }
   ],
   "source": [
    "np.random.seed(231)\n",
    "num_classes, num_inputs = 10, 50 # 50 samples of 10 classes\n",
    "x = 0.001 * np.random.randn(num_inputs, num_classes) # Generate some data for feature matrix X\n",
    "y = np.random.randint(num_classes, size=num_inputs) # Randomly create the correct corresponding class labels \n",
    "\n",
    "dx_num = eval_numerical_gradient(lambda x: svm_loss(x, y)[0], x, verbose=False) # Check dx, provided by svm_loss()\n",
    "loss, dx = svm_loss(x, y) # Compute SVM loss\n",
    "\n",
    "# Test svm_loss function. Loss should be around 9 and dx error should be 1e-9\n",
    "print('Testing svm_loss:')\n",
    "print('loss: ', loss)\n",
    "print('dx error: ', rel_error(dx_num, dx))\n",
    "\n",
    "dx_num = eval_numerical_gradient(lambda x: softmax_loss(x, y)[0], x, verbose=False) # Check dx, provided by softmax_loss()\n",
    "loss, dx = softmax_loss(x, y) # Compute softmax loss\n",
    "\n",
    "# Test softmax_loss function. Loss should be 2.3 and dx error should be 1e-8\n",
    "print('\\nTesting softmax_loss:')\n",
    "print('loss: ', loss)\n",
    "print('dx error: ', rel_error(dx_num, dx))"
   ]
  },
  {
   "cell_type": "markdown",
   "metadata": {
    "deletable": true,
    "editable": true,
    "nbpresent": {
     "id": "ee22ee33-96d6-4fd6-a2d9-2520dc3fee82"
    }
   },
   "source": [
    "# Two-layer network\n",
    "In the previous assignment you implemented a two-layer neural network in a single monolithic class. Now that you have implemented modular versions of the necessary layers, you will reimplement the two layer network using these modular implementations.\n",
    "\n",
    "Open the file `cs231n/classifiers/fc_net.py` and complete the implementation of the `TwoLayerNet` class. This class will serve as a model for the other networks you will implement in this assignment, so read through it to make sure you understand the API. You can run the cell below to test your implementation."
   ]
  },
  {
   "cell_type": "code",
   "execution_count": 17,
   "metadata": {
    "collapsed": false,
    "deletable": true,
    "editable": true,
    "nbpresent": {
     "id": "8c41d6e8-fbd8-4b8e-84bf-7a013b5b7fa2"
    }
   },
   "outputs": [
    {
     "name": "stdout",
     "output_type": "stream",
     "text": [
      "Testing initialization ... \n",
      "Testing test-time forward pass ... \n",
      "Testing training loss (no regularization)\n",
      "Running numeric gradient check with reg =  0.0\n",
      "W1 relative error: 2.13e-08\n",
      "W2 relative error: 3.31e-10\n",
      "b1 relative error: 8.37e-09\n",
      "b2 relative error: 2.53e-10\n",
      "Running numeric gradient check with reg =  0.7\n",
      "W1 relative error: 2.53e-07\n",
      "W2 relative error: 1.37e-07\n",
      "b1 relative error: 1.56e-08\n",
      "b2 relative error: 9.09e-10\n"
     ]
    }
   ],
   "source": [
    "np.random.seed(231)\n",
    "N, D, H, C = 3, 5, 50, 7\n",
    "X = np.random.randn(N, D)\n",
    "y = np.random.randint(C, size=N)\n",
    "\n",
    "std = 1e-3\n",
    "model = TwoLayerNet(input_dim=D, hidden_dim=H, num_classes=C, weight_scale=std)\n",
    "\n",
    "print('Testing initialization ... ')\n",
    "W1_std = abs(model.params['W1'].std() - std)\n",
    "b1 = model.params['b1']\n",
    "W2_std = abs(model.params['W2'].std() - std)\n",
    "b2 = model.params['b2']\n",
    "assert W1_std < std / 10, 'First layer weights do not seem right'\n",
    "assert np.all(b1 == 0), 'First layer biases do not seem right'\n",
    "assert W2_std < std / 10, 'Second layer weights do not seem right'\n",
    "assert np.all(b2 == 0), 'Second layer biases do not seem right'\n",
    "\n",
    "print('Testing test-time forward pass ... ')\n",
    "model.params['W1'] = np.linspace(-0.7, 0.3, num=D*H).reshape(D, H)\n",
    "model.params['b1'] = np.linspace(-0.1, 0.9, num=H)\n",
    "model.params['W2'] = np.linspace(-0.3, 0.4, num=H*C).reshape(H, C)\n",
    "model.params['b2'] = np.linspace(-0.9, 0.1, num=C)\n",
    "X = np.linspace(-5.5, 4.5, num=N*D).reshape(D, N).T\n",
    "scores = model.loss(X)\n",
    "correct_scores = np.asarray(\n",
    "  [[11.53165108,  12.2917344,   13.05181771,  13.81190102,  14.57198434, 15.33206765,  16.09215096],\n",
    "   [12.05769098,  12.74614105,  13.43459113,  14.1230412,   14.81149128, 15.49994135,  16.18839143],\n",
    "   [12.58373087,  13.20054771,  13.81736455,  14.43418138,  15.05099822, 15.66781506,  16.2846319 ]])\n",
    "scores_diff = np.abs(scores - correct_scores).sum()\n",
    "assert scores_diff < 1e-6, 'Problem with test-time forward pass'\n",
    "\n",
    "print('Testing training loss (no regularization)')\n",
    "y = np.asarray([0, 5, 1])\n",
    "loss, grads = model.loss(X, y)\n",
    "correct_loss = 3.4702243556\n",
    "assert abs(loss - correct_loss) < 1e-10, 'Problem with training-time loss'\n",
    "\n",
    "model.reg = 1.0\n",
    "loss, grads = model.loss(X, y)\n",
    "correct_loss = 26.5948426952\n",
    "assert abs(loss - correct_loss) < 1e-10, 'Problem with regularization loss'\n",
    "\n",
    "for reg in [0.0, 0.7]:\n",
    "  print('Running numeric gradient check with reg = ', reg)\n",
    "  model.reg = reg\n",
    "  loss, grads = model.loss(X, y)\n",
    "\n",
    "  for name in sorted(grads):\n",
    "    f = lambda _: model.loss(X, y)[0]\n",
    "    grad_num = eval_numerical_gradient(f, model.params[name], verbose=False)\n",
    "    print('%s relative error: %.2e' % (name, rel_error(grad_num, grads[name])))"
   ]
  },
  {
   "cell_type": "markdown",
   "metadata": {
    "deletable": true,
    "editable": true,
    "nbpresent": {
     "id": "d0301f57-b57e-4265-a875-20ab05893061"
    }
   },
   "source": [
    "# Solver\n",
    "In the previous assignment, the logic for training models was coupled to the models themselves. Following a more modular design, for this assignment we have split the logic for training models into a separate class.\n",
    "\n",
    "Open the file `cs231n/solver.py` and read through it to familiarize yourself with the API. After doing so, use a `Solver` instance to train a `TwoLayerNet` that achieves at least `50%` accuracy on the validation set."
   ]
  },
  {
   "cell_type": "code",
   "execution_count": null,
   "metadata": {
    "collapsed": false,
    "deletable": true,
    "editable": true,
    "nbpresent": {
     "id": "c2b2e7c4-2381-470d-869b-7ef9cb68eb84"
    }
   },
   "outputs": [],
   "source": [
    "model = TwoLayerNet()\n",
    "solver = None\n",
    "\n",
    "##############################################################################\n",
    "# TODO: Use a Solver instance to train a TwoLayerNet that achieves at least  #\n",
    "# 50% accuracy on the validation set.                                        #\n",
    "##############################################################################\n",
    "pass\n",
    "##############################################################################\n",
    "#                             END OF YOUR CODE                               #\n",
    "##############################################################################"
   ]
  },
  {
   "cell_type": "code",
   "execution_count": null,
   "metadata": {
    "collapsed": false,
    "deletable": true,
    "editable": true,
    "nbpresent": {
     "id": "d527ef46-382c-40a1-82c6-4b1f3f215923"
    }
   },
   "outputs": [],
   "source": [
    "# Run this cell to visualize training loss and train / val accuracy\n",
    "\n",
    "plt.subplot(2, 1, 1)\n",
    "plt.title('Training loss')\n",
    "plt.plot(solver.loss_history, 'o')\n",
    "plt.xlabel('Iteration')\n",
    "\n",
    "plt.subplot(2, 1, 2)\n",
    "plt.title('Accuracy')\n",
    "plt.plot(solver.train_acc_history, '-o', label='train')\n",
    "plt.plot(solver.val_acc_history, '-o', label='val')\n",
    "plt.plot([0.5] * len(solver.val_acc_history), 'k--')\n",
    "plt.xlabel('Epoch')\n",
    "plt.legend(loc='lower right')\n",
    "plt.gcf().set_size_inches(15, 12)\n",
    "plt.show()"
   ]
  },
  {
   "cell_type": "markdown",
   "metadata": {
    "deletable": true,
    "editable": true,
    "nbpresent": {
     "id": "9ba2ab10-c9f8-458b-a61e-dee9d41a3a95"
    }
   },
   "source": [
    "# Multilayer network\n",
    "Next you will implement a fully-connected network with an arbitrary number of hidden layers.\n",
    "\n",
    "Read through the `FullyConnectedNet` class in the file `cs231n/classifiers/fc_net.py`.\n",
    "\n",
    "Implement the initialization, the forward pass, and the backward pass. For the moment don't worry about implementing dropout or batch normalization; we will add those features soon."
   ]
  },
  {
   "cell_type": "markdown",
   "metadata": {
    "deletable": true,
    "editable": true,
    "nbpresent": {
     "id": "cff222a7-091d-4b0a-8c36-b7ec3521b0c4"
    }
   },
   "source": [
    "## Initial loss and gradient check"
   ]
  },
  {
   "cell_type": "markdown",
   "metadata": {
    "deletable": true,
    "editable": true,
    "nbpresent": {
     "id": "ef00f7f4-1c3f-40cf-81b8-355843c7ad8f"
    }
   },
   "source": [
    "As a sanity check, run the following to check the initial loss and to gradient check the network both with and without regularization. Do the initial losses seem reasonable?\n",
    "\n",
    "For gradient checking, you should expect to see errors around 1e-6 or less."
   ]
  },
  {
   "cell_type": "code",
   "execution_count": null,
   "metadata": {
    "collapsed": false,
    "deletable": true,
    "editable": true,
    "nbpresent": {
     "id": "5fc968ff-0b4b-4148-8ccf-eddbd4ff0d5e"
    }
   },
   "outputs": [],
   "source": [
    "np.random.seed(231)\n",
    "N, D, H1, H2, C = 2, 15, 20, 30, 10\n",
    "X = np.random.randn(N, D)\n",
    "y = np.random.randint(C, size=(N,))\n",
    "\n",
    "for reg in [0, 3.14]:\n",
    "  print('Running check with reg = ', reg)\n",
    "  model = FullyConnectedNet([H1, H2], input_dim=D, num_classes=C,\n",
    "                            reg=reg, weight_scale=5e-2, dtype=np.float64)\n",
    "\n",
    "  loss, grads = model.loss(X, y)\n",
    "  print('Initial loss: ', loss)\n",
    "\n",
    "  for name in sorted(grads):\n",
    "    f = lambda _: model.loss(X, y)[0]\n",
    "    grad_num = eval_numerical_gradient(f, model.params[name], verbose=False, h=1e-5)\n",
    "    print('%s relative error: %.2e' % (name, rel_error(grad_num, grads[name])))"
   ]
  },
  {
   "cell_type": "markdown",
   "metadata": {
    "deletable": true,
    "editable": true,
    "nbpresent": {
     "id": "615315ef-2b78-4746-b559-935215e432fc"
    }
   },
   "source": [
    "As another sanity check, make sure you can overfit a small dataset of 50 images. First we will try a three-layer network with 100 units in each hidden layer. You will need to tweak the learning rate and initialization scale, but you should be able to overfit and achieve 100% training accuracy within 20 epochs."
   ]
  },
  {
   "cell_type": "code",
   "execution_count": null,
   "metadata": {
    "collapsed": false,
    "deletable": true,
    "editable": true,
    "nbpresent": {
     "id": "00b6041d-c916-4f8c-9261-1ebb57c21890"
    },
    "scrolled": false
   },
   "outputs": [],
   "source": [
    "# TODO: Use a three-layer Net to overfit 50 training examples.\n",
    "\n",
    "num_train = 50\n",
    "small_data = {\n",
    "  'X_train': data['X_train'][:num_train],\n",
    "  'y_train': data['y_train'][:num_train],\n",
    "  'X_val': data['X_val'],\n",
    "  'y_val': data['y_val'],\n",
    "}\n",
    "\n",
    "weight_scale = 1e-2\n",
    "learning_rate = 1e-4\n",
    "model = FullyConnectedNet([100, 100],\n",
    "              weight_scale=weight_scale, dtype=np.float64)\n",
    "solver = Solver(model, small_data,\n",
    "                print_every=10, num_epochs=20, batch_size=25,\n",
    "                update_rule='sgd',\n",
    "                optim_config={\n",
    "                  'learning_rate': learning_rate,\n",
    "                }\n",
    "         )\n",
    "solver.train()\n",
    "\n",
    "plt.plot(solver.loss_history, 'o')\n",
    "plt.title('Training loss history')\n",
    "plt.xlabel('Iteration')\n",
    "plt.ylabel('Training loss')\n",
    "plt.show()"
   ]
  },
  {
   "cell_type": "markdown",
   "metadata": {
    "deletable": true,
    "editable": true,
    "nbpresent": {
     "id": "5a3b7b05-1d41-4854-90c2-14ea5d25b205"
    }
   },
   "source": [
    "Now try to use a five-layer network with 100 units on each layer to overfit 50 training examples. Again you will have to adjust the learning rate and weight initialization, but you should be able to achieve 100% training accuracy within 20 epochs."
   ]
  },
  {
   "cell_type": "code",
   "execution_count": null,
   "metadata": {
    "collapsed": false,
    "deletable": true,
    "editable": true,
    "nbpresent": {
     "id": "1cd20d27-7256-41bf-ad78-e67a7322efc9"
    }
   },
   "outputs": [],
   "source": [
    "# TODO: Use a five-layer Net to overfit 50 training examples.\n",
    "\n",
    "num_train = 50\n",
    "small_data = {\n",
    "  'X_train': data['X_train'][:num_train],\n",
    "  'y_train': data['y_train'][:num_train],\n",
    "  'X_val': data['X_val'],\n",
    "  'y_val': data['y_val'],\n",
    "}\n",
    "\n",
    "learning_rate = 1e-3\n",
    "weight_scale = 1e-5\n",
    "model = FullyConnectedNet([100, 100, 100, 100],\n",
    "                weight_scale=weight_scale, dtype=np.float64)\n",
    "solver = Solver(model, small_data,\n",
    "                print_every=10, num_epochs=20, batch_size=25,\n",
    "                update_rule='sgd',\n",
    "                optim_config={\n",
    "                  'learning_rate': learning_rate,\n",
    "                }\n",
    "         )\n",
    "solver.train()\n",
    "\n",
    "plt.plot(solver.loss_history, 'o')\n",
    "plt.title('Training loss history')\n",
    "plt.xlabel('Iteration')\n",
    "plt.ylabel('Training loss')\n",
    "plt.show()"
   ]
  },
  {
   "cell_type": "markdown",
   "metadata": {
    "deletable": true,
    "editable": true,
    "nbpresent": {
     "id": "750e0f6b-a717-4b93-99ee-42ca8219ee84"
    }
   },
   "source": [
    "# Inline question: \n",
    "Did you notice anything about the comparative difficulty of training the three-layer net vs training the five layer net?\n",
    "\n",
    "# Answer:\n",
    "[FILL THIS IN]\n"
   ]
  },
  {
   "cell_type": "markdown",
   "metadata": {
    "deletable": true,
    "editable": true,
    "nbpresent": {
     "id": "86e9f9c2-1588-4134-b7cf-df86fe8236cd"
    }
   },
   "source": [
    "# Update rules\n",
    "So far we have used vanilla stochastic gradient descent (SGD) as our update rule. More sophisticated update rules can make it easier to train deep networks. We will implement a few of the most commonly used update rules and compare them to vanilla SGD."
   ]
  },
  {
   "cell_type": "markdown",
   "metadata": {
    "deletable": true,
    "editable": true,
    "nbpresent": {
     "id": "b9e384a4-2766-46bb-b5e1-7ff306bc9188"
    }
   },
   "source": [
    "# SGD+Momentum\n",
    "Stochastic gradient descent with momentum is a widely used update rule that tends to make deep networks converge faster than vanilla stochstic gradient descent.\n",
    "\n",
    "Open the file `cs231n/optim.py` and read the documentation at the top of the file to make sure you understand the API. Implement the SGD+momentum update rule in the function `sgd_momentum` and run the following to check your implementation. You should see errors less than 1e-8."
   ]
  },
  {
   "cell_type": "code",
   "execution_count": null,
   "metadata": {
    "collapsed": false,
    "deletable": true,
    "editable": true,
    "nbpresent": {
     "id": "c5adf5ad-310f-4cf6-89d4-9e85f2859780"
    }
   },
   "outputs": [],
   "source": [
    "from cs231n.optim import sgd_momentum\n",
    "\n",
    "N, D = 4, 5\n",
    "w = np.linspace(-0.4, 0.6, num=N*D).reshape(N, D)\n",
    "dw = np.linspace(-0.6, 0.4, num=N*D).reshape(N, D)\n",
    "v = np.linspace(0.6, 0.9, num=N*D).reshape(N, D)\n",
    "\n",
    "config = {'learning_rate': 1e-3, 'velocity': v}\n",
    "next_w, _ = sgd_momentum(w, dw, config=config)\n",
    "\n",
    "expected_next_w = np.asarray([\n",
    "  [ 0.1406,      0.20738947,  0.27417895,  0.34096842,  0.40775789],\n",
    "  [ 0.47454737,  0.54133684,  0.60812632,  0.67491579,  0.74170526],\n",
    "  [ 0.80849474,  0.87528421,  0.94207368,  1.00886316,  1.07565263],\n",
    "  [ 1.14244211,  1.20923158,  1.27602105,  1.34281053,  1.4096    ]])\n",
    "expected_velocity = np.asarray([\n",
    "  [ 0.5406,      0.55475789,  0.56891579, 0.58307368,  0.59723158],\n",
    "  [ 0.61138947,  0.62554737,  0.63970526,  0.65386316,  0.66802105],\n",
    "  [ 0.68217895,  0.69633684,  0.71049474,  0.72465263,  0.73881053],\n",
    "  [ 0.75296842,  0.76712632,  0.78128421,  0.79544211,  0.8096    ]])\n",
    "\n",
    "print('next_w error: ', rel_error(next_w, expected_next_w))\n",
    "print('velocity error: ', rel_error(expected_velocity, config['velocity']))"
   ]
  },
  {
   "cell_type": "markdown",
   "metadata": {
    "deletable": true,
    "editable": true,
    "nbpresent": {
     "id": "3f5013d1-2ff8-4652-ac15-485b73055493"
    }
   },
   "source": [
    "Once you have done so, run the following to train a six-layer network with both SGD and SGD+momentum. You should see the SGD+momentum update rule converge faster."
   ]
  },
  {
   "cell_type": "code",
   "execution_count": null,
   "metadata": {
    "collapsed": false,
    "deletable": true,
    "editable": true,
    "nbpresent": {
     "id": "a630631b-d769-4403-96da-c3c295f1cf4a"
    },
    "scrolled": false
   },
   "outputs": [],
   "source": [
    "num_train = 4000\n",
    "small_data = {\n",
    "  'X_train': data['X_train'][:num_train],\n",
    "  'y_train': data['y_train'][:num_train],\n",
    "  'X_val': data['X_val'],\n",
    "  'y_val': data['y_val'],\n",
    "}\n",
    "\n",
    "solvers = {}\n",
    "\n",
    "for update_rule in ['sgd', 'sgd_momentum']:\n",
    "  print('running with ', update_rule)\n",
    "  model = FullyConnectedNet([100, 100, 100, 100, 100], weight_scale=5e-2)\n",
    "\n",
    "  solver = Solver(model, small_data,\n",
    "                  num_epochs=5, batch_size=100,\n",
    "                  update_rule=update_rule,\n",
    "                  optim_config={\n",
    "                    'learning_rate': 1e-2,\n",
    "                  },\n",
    "                  verbose=True)\n",
    "  solvers[update_rule] = solver\n",
    "  solver.train()\n",
    "  print()\n",
    "\n",
    "plt.subplot(3, 1, 1)\n",
    "plt.title('Training loss')\n",
    "plt.xlabel('Iteration')\n",
    "\n",
    "plt.subplot(3, 1, 2)\n",
    "plt.title('Training accuracy')\n",
    "plt.xlabel('Epoch')\n",
    "\n",
    "plt.subplot(3, 1, 3)\n",
    "plt.title('Validation accuracy')\n",
    "plt.xlabel('Epoch')\n",
    "\n",
    "for update_rule, solver in list(solvers.items()):\n",
    "  plt.subplot(3, 1, 1)\n",
    "  plt.plot(solver.loss_history, 'o', label=update_rule)\n",
    "  \n",
    "  plt.subplot(3, 1, 2)\n",
    "  plt.plot(solver.train_acc_history, '-o', label=update_rule)\n",
    "\n",
    "  plt.subplot(3, 1, 3)\n",
    "  plt.plot(solver.val_acc_history, '-o', label=update_rule)\n",
    "  \n",
    "for i in [1, 2, 3]:\n",
    "  plt.subplot(3, 1, i)\n",
    "  plt.legend(loc='upper center', ncol=4)\n",
    "plt.gcf().set_size_inches(15, 15)\n",
    "plt.show()"
   ]
  },
  {
   "cell_type": "markdown",
   "metadata": {
    "deletable": true,
    "editable": true,
    "nbpresent": {
     "id": "e446b2e5-c238-441b-bbb9-41d61de0e801"
    }
   },
   "source": [
    "# RMSProp and Adam\n",
    "RMSProp [1] and Adam [2] are update rules that set per-parameter learning rates by using a running average of the second moments of gradients.\n",
    "\n",
    "In the file `cs231n/optim.py`, implement the RMSProp update rule in the `rmsprop` function and implement the Adam update rule in the `adam` function, and check your implementations using the tests below.\n",
    "\n",
    "[1] Tijmen Tieleman and Geoffrey Hinton. \"Lecture 6.5-rmsprop: Divide the gradient by a running average of its recent magnitude.\" COURSERA: Neural Networks for Machine Learning 4 (2012).\n",
    "\n",
    "[2] Diederik Kingma and Jimmy Ba, \"Adam: A Method for Stochastic Optimization\", ICLR 2015."
   ]
  },
  {
   "cell_type": "code",
   "execution_count": null,
   "metadata": {
    "collapsed": false,
    "deletable": true,
    "editable": true,
    "nbpresent": {
     "id": "7487be36-a3ad-4e17-9b81-d7b891345a43"
    }
   },
   "outputs": [],
   "source": [
    "# Test RMSProp implementation; you should see errors less than 1e-7\n",
    "from cs231n.optim import rmsprop\n",
    "\n",
    "N, D = 4, 5\n",
    "w = np.linspace(-0.4, 0.6, num=N*D).reshape(N, D)\n",
    "dw = np.linspace(-0.6, 0.4, num=N*D).reshape(N, D)\n",
    "cache = np.linspace(0.6, 0.9, num=N*D).reshape(N, D)\n",
    "\n",
    "config = {'learning_rate': 1e-2, 'cache': cache}\n",
    "next_w, _ = rmsprop(w, dw, config=config)\n",
    "\n",
    "expected_next_w = np.asarray([\n",
    "  [-0.39223849, -0.34037513, -0.28849239, -0.23659121, -0.18467247],\n",
    "  [-0.132737,   -0.08078555, -0.02881884,  0.02316247,  0.07515774],\n",
    "  [ 0.12716641,  0.17918792,  0.23122175,  0.28326742,  0.33532447],\n",
    "  [ 0.38739248,  0.43947102,  0.49155973,  0.54365823,  0.59576619]])\n",
    "expected_cache = np.asarray([\n",
    "  [ 0.5976,      0.6126277,   0.6277108,   0.64284931,  0.65804321],\n",
    "  [ 0.67329252,  0.68859723,  0.70395734,  0.71937285,  0.73484377],\n",
    "  [ 0.75037008,  0.7659518,   0.78158892,  0.79728144,  0.81302936],\n",
    "  [ 0.82883269,  0.84469141,  0.86060554,  0.87657507,  0.8926    ]])\n",
    "\n",
    "print('next_w error: ', rel_error(expected_next_w, next_w))\n",
    "print('cache error: ', rel_error(expected_cache, config['cache']))"
   ]
  },
  {
   "cell_type": "code",
   "execution_count": null,
   "metadata": {
    "collapsed": false,
    "deletable": true,
    "editable": true,
    "nbpresent": {
     "id": "57df883e-c936-43ee-bc24-ef16e136b23d"
    }
   },
   "outputs": [],
   "source": [
    "# Test Adam implementation; you should see errors around 1e-7 or less\n",
    "from cs231n.optim import adam\n",
    "\n",
    "N, D = 4, 5\n",
    "w = np.linspace(-0.4, 0.6, num=N*D).reshape(N, D)\n",
    "dw = np.linspace(-0.6, 0.4, num=N*D).reshape(N, D)\n",
    "m = np.linspace(0.6, 0.9, num=N*D).reshape(N, D)\n",
    "v = np.linspace(0.7, 0.5, num=N*D).reshape(N, D)\n",
    "\n",
    "config = {'learning_rate': 1e-2, 'm': m, 'v': v, 't': 5}\n",
    "next_w, _ = adam(w, dw, config=config)\n",
    "\n",
    "expected_next_w = np.asarray([\n",
    "  [-0.40094747, -0.34836187, -0.29577703, -0.24319299, -0.19060977],\n",
    "  [-0.1380274,  -0.08544591, -0.03286534,  0.01971428,  0.0722929],\n",
    "  [ 0.1248705,   0.17744702,  0.23002243,  0.28259667,  0.33516969],\n",
    "  [ 0.38774145,  0.44031188,  0.49288093,  0.54544852,  0.59801459]])\n",
    "expected_v = np.asarray([\n",
    "  [ 0.69966,     0.68908382,  0.67851319,  0.66794809,  0.65738853,],\n",
    "  [ 0.64683452,  0.63628604,  0.6257431,   0.61520571,  0.60467385,],\n",
    "  [ 0.59414753,  0.58362676,  0.57311152,  0.56260183,  0.55209767,],\n",
    "  [ 0.54159906,  0.53110598,  0.52061845,  0.51013645,  0.49966,   ]])\n",
    "expected_m = np.asarray([\n",
    "  [ 0.48,        0.49947368,  0.51894737,  0.53842105,  0.55789474],\n",
    "  [ 0.57736842,  0.59684211,  0.61631579,  0.63578947,  0.65526316],\n",
    "  [ 0.67473684,  0.69421053,  0.71368421,  0.73315789,  0.75263158],\n",
    "  [ 0.77210526,  0.79157895,  0.81105263,  0.83052632,  0.85      ]])\n",
    "\n",
    "print('next_w error: ', rel_error(expected_next_w, next_w))\n",
    "print('v error: ', rel_error(expected_v, config['v']))\n",
    "print('m error: ', rel_error(expected_m, config['m']))"
   ]
  },
  {
   "cell_type": "markdown",
   "metadata": {
    "deletable": true,
    "editable": true,
    "nbpresent": {
     "id": "e9af6441-c920-4da6-bdfe-684b90d99b4c"
    }
   },
   "source": [
    "Once you have debugged your RMSProp and Adam implementations, run the following to train a pair of deep networks using these new update rules:"
   ]
  },
  {
   "cell_type": "code",
   "execution_count": null,
   "metadata": {
    "collapsed": false,
    "deletable": true,
    "editable": true,
    "nbpresent": {
     "id": "b00ec074-0604-4882-a52a-023a6736c055"
    }
   },
   "outputs": [],
   "source": [
    "learning_rates = {'rmsprop': 1e-4, 'adam': 1e-3}\n",
    "for update_rule in ['adam', 'rmsprop']:\n",
    "  print('running with ', update_rule)\n",
    "  model = FullyConnectedNet([100, 100, 100, 100, 100], weight_scale=5e-2)\n",
    "\n",
    "  solver = Solver(model, small_data,\n",
    "                  num_epochs=5, batch_size=100,\n",
    "                  update_rule=update_rule,\n",
    "                  optim_config={\n",
    "                    'learning_rate': learning_rates[update_rule]\n",
    "                  },\n",
    "                  verbose=True)\n",
    "  solvers[update_rule] = solver\n",
    "  solver.train()\n",
    "  print()\n",
    "\n",
    "plt.subplot(3, 1, 1)\n",
    "plt.title('Training loss')\n",
    "plt.xlabel('Iteration')\n",
    "\n",
    "plt.subplot(3, 1, 2)\n",
    "plt.title('Training accuracy')\n",
    "plt.xlabel('Epoch')\n",
    "\n",
    "plt.subplot(3, 1, 3)\n",
    "plt.title('Validation accuracy')\n",
    "plt.xlabel('Epoch')\n",
    "\n",
    "for update_rule, solver in list(solvers.items()):\n",
    "  plt.subplot(3, 1, 1)\n",
    "  plt.plot(solver.loss_history, 'o', label=update_rule)\n",
    "  \n",
    "  plt.subplot(3, 1, 2)\n",
    "  plt.plot(solver.train_acc_history, '-o', label=update_rule)\n",
    "\n",
    "  plt.subplot(3, 1, 3)\n",
    "  plt.plot(solver.val_acc_history, '-o', label=update_rule)\n",
    "  \n",
    "for i in [1, 2, 3]:\n",
    "  plt.subplot(3, 1, i)\n",
    "  plt.legend(loc='upper center', ncol=4)\n",
    "plt.gcf().set_size_inches(15, 15)\n",
    "plt.show()"
   ]
  },
  {
   "cell_type": "markdown",
   "metadata": {
    "deletable": true,
    "editable": true,
    "nbpresent": {
     "id": "2e7b3e31-89ee-44df-936b-1e0abc201ebd"
    }
   },
   "source": [
    "# Train a good model!\n",
    "Train the best fully-connected model that you can on CIFAR-10, storing your best model in the `best_model` variable. We require you to get at least 50% accuracy on the validation set using a fully-connected net.\n",
    "\n",
    "If you are careful it should be possible to get accuracies above 55%, but we don't require it for this part and won't assign extra credit for doing so. Later in the assignment we will ask you to train the best convolutional network that you can on CIFAR-10, and we would prefer that you spend your effort working on convolutional nets rather than fully-connected nets.\n",
    "\n",
    "You might find it useful to complete the `BatchNormalization.ipynb` and `Dropout.ipynb` notebooks before completing this part, since those techniques can help you train powerful models."
   ]
  },
  {
   "cell_type": "code",
   "execution_count": null,
   "metadata": {
    "collapsed": false,
    "deletable": true,
    "editable": true,
    "nbpresent": {
     "id": "69db324a-d54a-44ff-8cee-e0bd1cd126ce"
    },
    "scrolled": false
   },
   "outputs": [],
   "source": [
    "best_model = None\n",
    "################################################################################\n",
    "# TODO: Train the best FullyConnectedNet that you can on CIFAR-10. You might   #\n",
    "# batch normalization and dropout useful. Store your best model in the         #\n",
    "# best_model variable.                                                         #\n",
    "################################################################################\n",
    "pass\n",
    "################################################################################\n",
    "#                              END OF YOUR CODE                                #\n",
    "################################################################################"
   ]
  },
  {
   "cell_type": "markdown",
   "metadata": {
    "deletable": true,
    "editable": true,
    "nbpresent": {
     "id": "7d746e6c-ca24-4de9-b6e0-e49e897e3d0b"
    }
   },
   "source": [
    "# Test you model\n",
    "Run your best model on the validation and test sets. You should achieve above 50% accuracy on the validation set."
   ]
  },
  {
   "cell_type": "code",
   "execution_count": null,
   "metadata": {
    "collapsed": false,
    "deletable": true,
    "editable": true,
    "nbpresent": {
     "id": "81d4fad3-fb42-42fb-83c7-68320d95c0e1"
    }
   },
   "outputs": [],
   "source": [
    "y_test_pred = np.argmax(best_model.loss(data['X_test']), axis=1)\n",
    "y_val_pred = np.argmax(best_model.loss(data['X_val']), axis=1)\n",
    "print('Validation set accuracy: ', (y_val_pred == data['y_val']).mean())\n",
    "print('Test set accuracy: ', (y_test_pred == data['y_test']).mean())"
   ]
  }
 ],
 "metadata": {
  "anaconda-cloud": {},
  "kernelspec": {
   "display_name": "Python [conda env:tensorflow]",
   "language": "python",
   "name": "conda-env-tensorflow-py"
  },
  "language_info": {
   "codemirror_mode": {
    "name": "ipython",
    "version": 3
   },
   "file_extension": ".py",
   "mimetype": "text/x-python",
   "name": "python",
   "nbconvert_exporter": "python",
   "pygments_lexer": "ipython3",
   "version": "3.5.2"
  },
  "nbpresent": {
   "slides": {
    "07a795f3-6323-42a8-8de9-2d8dee3b85f9": {
     "id": "07a795f3-6323-42a8-8de9-2d8dee3b85f9",
     "prev": "a12029a4-da3f-4863-9de6-41888e8ace5d",
     "regions": {
      "0314a426-eeb9-4e94-b2d5-611f589200d8": {
       "attrs": {
        "height": 0.8,
        "width": 0.8,
        "x": 0.1,
        "y": 0.1
       },
       "content": {
        "cell": "9ba2ab10-c9f8-458b-a61e-dee9d41a3a95",
        "part": "whole"
       },
       "id": "0314a426-eeb9-4e94-b2d5-611f589200d8"
      }
     }
    },
    "10a7a237-a19d-4ec8-8951-90445f1ac4bf": {
     "id": "10a7a237-a19d-4ec8-8951-90445f1ac4bf",
     "prev": "5b8fda6a-435f-49b0-b1ec-e8eff638b683",
     "regions": {
      "d079d758-8932-406a-a7a5-f4c82b307927": {
       "attrs": {
        "height": 0.8,
        "width": 0.8,
        "x": 0.1,
        "y": 0.1
       },
       "content": {
        "cell": "df85aeba-2aa3-48ce-9610-9d319a6ffd41",
        "part": "whole"
       },
       "id": "d079d758-8932-406a-a7a5-f4c82b307927"
      }
     }
    },
    "11714858-2e75-4d8f-9202-d1b090f86ef7": {
     "id": "11714858-2e75-4d8f-9202-d1b090f86ef7",
     "prev": "73bbbbc3-3d65-4c16-b4da-a66f60fe10af",
     "regions": {
      "8ccb1fa0-9cf4-4864-8d1d-d6434353aa41": {
       "attrs": {
        "height": 0.8,
        "width": 0.8,
        "x": 0.1,
        "y": 0.1
       },
       "content": {
        "cell": "e9af6441-c920-4da6-bdfe-684b90d99b4c",
        "part": "whole"
       },
       "id": "8ccb1fa0-9cf4-4864-8d1d-d6434353aa41"
      }
     }
    },
    "1a199c29-5ba2-4d61-b0e2-04d98cb84a3a": {
     "id": "1a199c29-5ba2-4d61-b0e2-04d98cb84a3a",
     "prev": "91b0d467-2305-4981-ba65-2abcaf0c10f2",
     "regions": {
      "780244c2-7137-42e9-a628-eb9f5403cb48": {
       "attrs": {
        "height": 0.8,
        "width": 0.8,
        "x": 0.1,
        "y": 0.1
       },
       "content": {
        "cell": "8c41d6e8-fbd8-4b8e-84bf-7a013b5b7fa2",
        "part": "whole"
       },
       "id": "780244c2-7137-42e9-a628-eb9f5403cb48"
      }
     }
    },
    "1ba34106-5ba6-4953-88ab-5e197165628b": {
     "id": "1ba34106-5ba6-4953-88ab-5e197165628b",
     "prev": "6e36338f-fc9f-43c3-aabc-041d7d643792",
     "regions": {
      "06e0e6b9-c43d-42b3-8ac4-71e51a15a400": {
       "attrs": {
        "height": 0.8,
        "width": 0.8,
        "x": 0.1,
        "y": 0.1
       },
       "content": {
        "cell": "900e8859-29d5-42de-98f5-10bf2b0ba702",
        "part": "whole"
       },
       "id": "06e0e6b9-c43d-42b3-8ac4-71e51a15a400"
      }
     }
    },
    "1c2d88c4-8dea-4352-9eec-1557e4616ac8": {
     "id": "1c2d88c4-8dea-4352-9eec-1557e4616ac8",
     "prev": "4dafff15-5ba3-4b31-98be-759924c8d16e",
     "regions": {
      "338ed660-ebc9-433b-a293-61bbf44e8387": {
       "attrs": {
        "height": 0.8,
        "width": 0.8,
        "x": 0.1,
        "y": 0.1
       },
       "content": {
        "cell": "750e0f6b-a717-4b93-99ee-42ca8219ee84",
        "part": "whole"
       },
       "id": "338ed660-ebc9-433b-a293-61bbf44e8387"
      }
     }
    },
    "229cdb3e-5a46-4f4f-aed8-e863836ac495": {
     "id": "229cdb3e-5a46-4f4f-aed8-e863836ac495",
     "prev": "11714858-2e75-4d8f-9202-d1b090f86ef7",
     "regions": {
      "fda72f77-342a-4c33-be38-e9cc85faeaa5": {
       "attrs": {
        "height": 0.8,
        "width": 0.8,
        "x": 0.1,
        "y": 0.1
       },
       "content": {
        "cell": "b00ec074-0604-4882-a52a-023a6736c055",
        "part": "whole"
       },
       "id": "fda72f77-342a-4c33-be38-e9cc85faeaa5"
      }
     }
    },
    "2422a6c3-390d-4cb2-98d9-e2954458993e": {
     "id": "2422a6c3-390d-4cb2-98d9-e2954458993e",
     "prev": "6ad352de-2736-487b-be33-f7191fad1fff",
     "regions": {
      "8fbe8a76-5dc3-4345-ae9e-a1b6ae26763b": {
       "attrs": {
        "height": 0.8,
        "width": 0.8,
        "x": 0.1,
        "y": 0.1
       },
       "content": {
        "cell": "7487be36-a3ad-4e17-9b81-d7b891345a43",
        "part": "whole"
       },
       "id": "8fbe8a76-5dc3-4345-ae9e-a1b6ae26763b"
      }
     }
    },
    "29426f2b-4aca-43e9-8a2f-fb6048828829": {
     "id": "29426f2b-4aca-43e9-8a2f-fb6048828829",
     "prev": "229cdb3e-5a46-4f4f-aed8-e863836ac495",
     "regions": {
      "c2c907cf-84d9-4b00-ab03-9a0765d53db5": {
       "attrs": {
        "height": 0.8,
        "width": 0.8,
        "x": 0.1,
        "y": 0.1
       },
       "content": {
        "cell": "2e7b3e31-89ee-44df-936b-1e0abc201ebd",
        "part": "whole"
       },
       "id": "c2c907cf-84d9-4b00-ab03-9a0765d53db5"
      }
     }
    },
    "3ef545a0-479e-4a64-81cb-a60e61ce368d": {
     "id": "3ef545a0-479e-4a64-81cb-a60e61ce368d",
     "prev": "07a795f3-6323-42a8-8de9-2d8dee3b85f9",
     "regions": {
      "b02f4e1d-b767-402a-ac19-1b7d1f5ee057": {
       "attrs": {
        "height": 0.8,
        "width": 0.8,
        "x": 0.1,
        "y": 0.1
       },
       "content": {
        "cell": "cff222a7-091d-4b0a-8c36-b7ec3521b0c4",
        "part": "whole"
       },
       "id": "b02f4e1d-b767-402a-ac19-1b7d1f5ee057"
      }
     }
    },
    "4253625c-4f5f-4c81-806e-e799871ef72b": {
     "id": "4253625c-4f5f-4c81-806e-e799871ef72b",
     "prev": "82ac1adf-59f6-4031-a4f3-23aa6c850ef8",
     "regions": {
      "42f00dfa-7d34-4e21-8654-5f2aba7d2b24": {
       "attrs": {
        "height": 0.8,
        "width": 0.8,
        "x": 0.1,
        "y": 0.1
       },
       "content": {
        "cell": "c5adf5ad-310f-4cf6-89d4-9e85f2859780",
        "part": "whole"
       },
       "id": "42f00dfa-7d34-4e21-8654-5f2aba7d2b24"
      }
     }
    },
    "435e01f9-b695-4368-8d2a-ac47035b82d1": {
     "id": "435e01f9-b695-4368-8d2a-ac47035b82d1",
     "prev": "a16ed116-3203-4ff9-8e10-12dee328cdc5",
     "regions": {
      "7f7a15f4-e428-49f5-a79a-446c75516182": {
       "attrs": {
        "height": 0.8,
        "width": 0.8,
        "x": 0.1,
        "y": 0.1
       },
       "content": {
        "cell": "46ff47cb-c553-40ee-a39f-136286bd8bac",
        "part": "whole"
       },
       "id": "7f7a15f4-e428-49f5-a79a-446c75516182"
      }
     }
    },
    "4dafff15-5ba3-4b31-98be-759924c8d16e": {
     "id": "4dafff15-5ba3-4b31-98be-759924c8d16e",
     "prev": "9f3bd35d-5878-443d-bc2d-401738b9555c",
     "regions": {
      "943a208d-c4a6-428f-b303-ef093ea44f61": {
       "attrs": {
        "height": 0.8,
        "width": 0.8,
        "x": 0.1,
        "y": 0.1
       },
       "content": {
        "cell": "1cd20d27-7256-41bf-ad78-e67a7322efc9",
        "part": "whole"
       },
       "id": "943a208d-c4a6-428f-b303-ef093ea44f61"
      }
     }
    },
    "55941dc2-9702-4bba-aab4-d5e4d15a4eaf": {
     "id": "55941dc2-9702-4bba-aab4-d5e4d15a4eaf",
     "prev": "10a7a237-a19d-4ec8-8951-90445f1ac4bf",
     "regions": {
      "86fd9ef1-1b1b-4706-b23e-86746e60bb01": {
       "attrs": {
        "height": 0.8,
        "width": 0.8,
        "x": 0.1,
        "y": 0.1
       },
       "content": {
        "cell": "3514695e-fef6-4ea0-bafd-2fc95767cfb9",
        "part": "whole"
       },
       "id": "86fd9ef1-1b1b-4706-b23e-86746e60bb01"
      }
     }
    },
    "5b8fda6a-435f-49b0-b1ec-e8eff638b683": {
     "id": "5b8fda6a-435f-49b0-b1ec-e8eff638b683",
     "prev": "e79b0ac7-3254-4147-a0aa-8fb7bb5b535e",
     "regions": {
      "aa661b28-4b60-4999-9cca-c813295f6875": {
       "attrs": {
        "height": 0.8,
        "width": 0.8,
        "x": 0.1,
        "y": 0.1
       },
       "content": {
        "cell": "4bb82c93-c91f-4012-b571-3efb6562a2ea",
        "part": "whole"
       },
       "id": "aa661b28-4b60-4999-9cca-c813295f6875"
      }
     }
    },
    "6ad352de-2736-487b-be33-f7191fad1fff": {
     "id": "6ad352de-2736-487b-be33-f7191fad1fff",
     "prev": "ae566790-5f6b-40f7-8aff-f85d15afaa79",
     "regions": {
      "721eccc1-aa4a-4039-9ba8-3d90820c72e5": {
       "attrs": {
        "height": 0.8,
        "width": 0.8,
        "x": 0.1,
        "y": 0.1
       },
       "content": {
        "cell": "e446b2e5-c238-441b-bbb9-41d61de0e801",
        "part": "whole"
       },
       "id": "721eccc1-aa4a-4039-9ba8-3d90820c72e5"
      }
     }
    },
    "6e36338f-fc9f-43c3-aabc-041d7d643792": {
     "id": "6e36338f-fc9f-43c3-aabc-041d7d643792",
     "prev": "71a1fbef-6caf-4a39-9cf8-b300834679d2",
     "regions": {
      "69f1447e-327a-470a-b535-988efd66e483": {
       "attrs": {
        "height": 0.8,
        "width": 0.8,
        "x": 0.1,
        "y": 0.1
       },
       "content": {
        "cell": "f90d8a24-7351-46bf-958c-736921f4c9a3",
        "part": "whole"
       },
       "id": "69f1447e-327a-470a-b535-988efd66e483"
      }
     }
    },
    "71a1fbef-6caf-4a39-9cf8-b300834679d2": {
     "id": "71a1fbef-6caf-4a39-9cf8-b300834679d2",
     "prev": "d13a850f-2a5b-41e6-8624-8805bbc2784c",
     "regions": {
      "1233d0ca-4850-4a28-aad6-3284a097ccaf": {
       "attrs": {
        "height": 0.8,
        "width": 0.8,
        "x": 0.1,
        "y": 0.1
       },
       "content": {
        "cell": "71f8233a-ad1f-4fdb-bafb-bec318e893ab",
        "part": "whole"
       },
       "id": "1233d0ca-4850-4a28-aad6-3284a097ccaf"
      }
     }
    },
    "73bbbbc3-3d65-4c16-b4da-a66f60fe10af": {
     "id": "73bbbbc3-3d65-4c16-b4da-a66f60fe10af",
     "prev": "2422a6c3-390d-4cb2-98d9-e2954458993e",
     "regions": {
      "f22c7803-c183-4ba3-9b51-9137d8609bb4": {
       "attrs": {
        "height": 0.8,
        "width": 0.8,
        "x": 0.1,
        "y": 0.1
       },
       "content": {
        "cell": "57df883e-c936-43ee-bc24-ef16e136b23d",
        "part": "whole"
       },
       "id": "f22c7803-c183-4ba3-9b51-9137d8609bb4"
      }
     }
    },
    "7cec535a-2fdb-4a0d-910a-c83b142f4781": {
     "id": "7cec535a-2fdb-4a0d-910a-c83b142f4781",
     "prev": "1c2d88c4-8dea-4352-9eec-1557e4616ac8",
     "regions": {
      "60f2faac-23aa-4c70-b01f-5bc195fbefb9": {
       "attrs": {
        "height": 0.8,
        "width": 0.8,
        "x": 0.1,
        "y": 0.1
       },
       "content": {
        "cell": "86e9f9c2-1588-4134-b7cf-df86fe8236cd",
        "part": "whole"
       },
       "id": "60f2faac-23aa-4c70-b01f-5bc195fbefb9"
      }
     }
    },
    "7d924750-484f-4c6d-8e87-6c48a3c45318": {
     "id": "7d924750-484f-4c6d-8e87-6c48a3c45318",
     "prev": "4253625c-4f5f-4c81-806e-e799871ef72b",
     "regions": {
      "0a04c8a8-aff0-4acf-8a4b-aeadb3a34658": {
       "attrs": {
        "height": 0.8,
        "width": 0.8,
        "x": 0.1,
        "y": 0.1
       },
       "content": {
        "cell": "3f5013d1-2ff8-4652-ac15-485b73055493",
        "part": "whole"
       },
       "id": "0a04c8a8-aff0-4acf-8a4b-aeadb3a34658"
      }
     }
    },
    "82ac1adf-59f6-4031-a4f3-23aa6c850ef8": {
     "id": "82ac1adf-59f6-4031-a4f3-23aa6c850ef8",
     "prev": "7cec535a-2fdb-4a0d-910a-c83b142f4781",
     "regions": {
      "8c516a9b-5b22-45d7-add8-77511e304030": {
       "attrs": {
        "height": 0.8,
        "width": 0.8,
        "x": 0.1,
        "y": 0.1
       },
       "content": {
        "cell": "b9e384a4-2766-46bb-b5e1-7ff306bc9188",
        "part": "whole"
       },
       "id": "8c516a9b-5b22-45d7-add8-77511e304030"
      }
     }
    },
    "8e6c87c2-e438-498e-a8d3-8fb3332691fc": {
     "id": "8e6c87c2-e438-498e-a8d3-8fb3332691fc",
     "prev": "29426f2b-4aca-43e9-8a2f-fb6048828829",
     "regions": {
      "0e0683fa-f153-4c2e-ace1-29147de1f043": {
       "attrs": {
        "height": 0.8,
        "width": 0.8,
        "x": 0.1,
        "y": 0.1
       },
       "content": {
        "cell": "69db324a-d54a-44ff-8cee-e0bd1cd126ce",
        "part": "whole"
       },
       "id": "0e0683fa-f153-4c2e-ace1-29147de1f043"
      }
     }
    },
    "91b0d467-2305-4981-ba65-2abcaf0c10f2": {
     "id": "91b0d467-2305-4981-ba65-2abcaf0c10f2",
     "prev": "f317cb71-71ab-46ec-b703-31b479fbca1c",
     "regions": {
      "3066c054-7ad0-4dd1-8fa1-000b32b0c7e2": {
       "attrs": {
        "height": 0.8,
        "width": 0.8,
        "x": 0.1,
        "y": 0.1
       },
       "content": {
        "cell": "ee22ee33-96d6-4fd6-a2d9-2520dc3fee82",
        "part": "whole"
       },
       "id": "3066c054-7ad0-4dd1-8fa1-000b32b0c7e2"
      }
     }
    },
    "9f014be0-ce51-47c9-bbb5-1434143990f8": {
     "id": "9f014be0-ce51-47c9-bbb5-1434143990f8",
     "prev": "e96c3a5a-b323-4e52-af9b-3a9a88d61f61",
     "regions": {
      "02fcdc6b-17fc-4b2c-961a-ac6e131b38ff": {
       "attrs": {
        "height": 0.8,
        "width": 0.8,
        "x": 0.1,
        "y": 0.1
       },
       "content": {
        "cell": "7e3edd8b-b989-480c-a24d-c29620c49e4b",
        "part": "whole"
       },
       "id": "02fcdc6b-17fc-4b2c-961a-ac6e131b38ff"
      }
     }
    },
    "9f3bd35d-5878-443d-bc2d-401738b9555c": {
     "id": "9f3bd35d-5878-443d-bc2d-401738b9555c",
     "prev": "be13c681-5c57-4354-96f6-924bca8f51f5",
     "regions": {
      "40205518-b8d9-4470-a09f-d1b3b7ad7cce": {
       "attrs": {
        "height": 0.8,
        "width": 0.8,
        "x": 0.1,
        "y": 0.1
       },
       "content": {
        "cell": "5a3b7b05-1d41-4854-90c2-14ea5d25b205",
        "part": "whole"
       },
       "id": "40205518-b8d9-4470-a09f-d1b3b7ad7cce"
      }
     }
    },
    "a12029a4-da3f-4863-9de6-41888e8ace5d": {
     "id": "a12029a4-da3f-4863-9de6-41888e8ace5d",
     "prev": "a4ced332-1b16-45ce-9ca7-2b458f198c62",
     "regions": {
      "4caad030-29ff-4ee8-873d-a2d9b67a1895": {
       "attrs": {
        "height": 0.8,
        "width": 0.8,
        "x": 0.1,
        "y": 0.1
       },
       "content": {
        "cell": "d527ef46-382c-40a1-82c6-4b1f3f215923",
        "part": "whole"
       },
       "id": "4caad030-29ff-4ee8-873d-a2d9b67a1895"
      }
     }
    },
    "a16ed116-3203-4ff9-8e10-12dee328cdc5": {
     "id": "a16ed116-3203-4ff9-8e10-12dee328cdc5",
     "prev": "55941dc2-9702-4bba-aab4-d5e4d15a4eaf",
     "regions": {
      "87e96980-2ad6-4dcb-815b-62bfc6ec918f": {
       "attrs": {
        "height": 0.8,
        "width": 0.8,
        "x": 0.1,
        "y": 0.1
       },
       "content": {
        "cell": "ccffe6a9-76a5-4d88-bb33-38d2db0a2de9",
        "part": "whole"
       },
       "id": "87e96980-2ad6-4dcb-815b-62bfc6ec918f"
      }
     }
    },
    "a4ced332-1b16-45ce-9ca7-2b458f198c62": {
     "id": "a4ced332-1b16-45ce-9ca7-2b458f198c62",
     "prev": "c2639971-7b78-4dc9-89c1-f23e0ff783cc",
     "regions": {
      "8bf02543-cf8a-4bbb-8739-940b7a604ead": {
       "attrs": {
        "height": 0.8,
        "width": 0.8,
        "x": 0.1,
        "y": 0.1
       },
       "content": {
        "cell": "c2b2e7c4-2381-470d-869b-7ef9cb68eb84",
        "part": "whole"
       },
       "id": "8bf02543-cf8a-4bbb-8739-940b7a604ead"
      }
     }
    },
    "ae566790-5f6b-40f7-8aff-f85d15afaa79": {
     "id": "ae566790-5f6b-40f7-8aff-f85d15afaa79",
     "prev": "7d924750-484f-4c6d-8e87-6c48a3c45318",
     "regions": {
      "646c7860-d3af-444c-af55-71feb90ac837": {
       "attrs": {
        "height": 0.8,
        "width": 0.8,
        "x": 0.1,
        "y": 0.1
       },
       "content": {
        "cell": "a630631b-d769-4403-96da-c3c295f1cf4a",
        "part": "whole"
       },
       "id": "646c7860-d3af-444c-af55-71feb90ac837"
      }
     }
    },
    "b4c2d503-38f7-496f-a443-5073c2d4b7c9": {
     "id": "b4c2d503-38f7-496f-a443-5073c2d4b7c9",
     "prev": "3ef545a0-479e-4a64-81cb-a60e61ce368d",
     "regions": {
      "5ab163a1-ed4c-4a4b-96eb-c7ff17a4c9af": {
       "attrs": {
        "height": 0.8,
        "width": 0.8,
        "x": 0.1,
        "y": 0.1
       },
       "content": {
        "cell": "ef00f7f4-1c3f-40cf-81b8-355843c7ad8f",
        "part": "whole"
       },
       "id": "5ab163a1-ed4c-4a4b-96eb-c7ff17a4c9af"
      }
     }
    },
    "be13c681-5c57-4354-96f6-924bca8f51f5": {
     "id": "be13c681-5c57-4354-96f6-924bca8f51f5",
     "prev": "c683b3ee-66de-4298-a009-caafe2d746c0",
     "regions": {
      "196d5ca5-41b3-45d1-af1f-0cde4a0489be": {
       "attrs": {
        "height": 0.8,
        "width": 0.8,
        "x": 0.1,
        "y": 0.1
       },
       "content": {
        "cell": "00b6041d-c916-4f8c-9261-1ebb57c21890",
        "part": "whole"
       },
       "id": "196d5ca5-41b3-45d1-af1f-0cde4a0489be"
      }
     }
    },
    "c2639971-7b78-4dc9-89c1-f23e0ff783cc": {
     "id": "c2639971-7b78-4dc9-89c1-f23e0ff783cc",
     "prev": "1a199c29-5ba2-4d61-b0e2-04d98cb84a3a",
     "regions": {
      "cdb4bcb2-383b-4776-90c4-7dbfd74ffd32": {
       "attrs": {
        "height": 0.8,
        "width": 0.8,
        "x": 0.1,
        "y": 0.1
       },
       "content": {
        "cell": "d0301f57-b57e-4265-a875-20ab05893061",
        "part": "whole"
       },
       "id": "cdb4bcb2-383b-4776-90c4-7dbfd74ffd32"
      }
     }
    },
    "c683b3ee-66de-4298-a009-caafe2d746c0": {
     "id": "c683b3ee-66de-4298-a009-caafe2d746c0",
     "prev": "ec62cce7-60ec-45be-a31c-c89da645b98c",
     "regions": {
      "6d461be2-bcac-442e-983c-979b6c35271e": {
       "attrs": {
        "height": 0.8,
        "width": 0.8,
        "x": 0.1,
        "y": 0.1
       },
       "content": {
        "cell": "615315ef-2b78-4746-b559-935215e432fc",
        "part": "whole"
       },
       "id": "6d461be2-bcac-442e-983c-979b6c35271e"
      }
     }
    },
    "c9aa6d2c-752e-4066-8048-60ebdc37c518": {
     "id": "c9aa6d2c-752e-4066-8048-60ebdc37c518",
     "prev": "8e6c87c2-e438-498e-a8d3-8fb3332691fc",
     "regions": {
      "7bd6189c-46b2-41a4-89c2-d298d31e2e54": {
       "attrs": {
        "height": 0.8,
        "width": 0.8,
        "x": 0.1,
        "y": 0.1
       },
       "content": {
        "cell": "7d746e6c-ca24-4de9-b6e0-e49e897e3d0b",
        "part": "whole"
       },
       "id": "7bd6189c-46b2-41a4-89c2-d298d31e2e54"
      }
     }
    },
    "cebb1375-145f-4b55-b390-eea0a02be73d": {
     "id": "cebb1375-145f-4b55-b390-eea0a02be73d",
     "prev": null,
     "regions": {
      "159e4ab3-3330-4cb9-8ec3-5ff4c9aa917c": {
       "attrs": {
        "height": 0.8,
        "width": 0.8,
        "x": 0.1,
        "y": 0.1
       },
       "content": {
        "cell": "2f807102-73c6-4c1d-9289-9fd8002f0f20",
        "part": "whole"
       },
       "id": "159e4ab3-3330-4cb9-8ec3-5ff4c9aa917c"
      }
     }
    },
    "d13a850f-2a5b-41e6-8624-8805bbc2784c": {
     "id": "d13a850f-2a5b-41e6-8624-8805bbc2784c",
     "prev": "435e01f9-b695-4368-8d2a-ac47035b82d1",
     "regions": {
      "b6ac7759-feed-4bc9-8fb8-85a4f29eb817": {
       "attrs": {
        "height": 0.8,
        "width": 0.8,
        "x": 0.1,
        "y": 0.1
       },
       "content": {
        "cell": "4f25ffa9-ac33-4ef0-9c52-52e4ab887655",
        "part": "whole"
       },
       "id": "b6ac7759-feed-4bc9-8fb8-85a4f29eb817"
      }
     }
    },
    "d2a055b6-1e92-4ccd-b6e1-f9218b3498a0": {
     "id": "d2a055b6-1e92-4ccd-b6e1-f9218b3498a0",
     "prev": "c9aa6d2c-752e-4066-8048-60ebdc37c518",
     "regions": {
      "a2fc07fe-a184-4b0d-b8bc-67a068c1c2c2": {
       "attrs": {
        "height": 0.8,
        "width": 0.8,
        "x": 0.1,
        "y": 0.1
       },
       "content": {
        "cell": "81d4fad3-fb42-42fb-83c7-68320d95c0e1",
        "part": "whole"
       },
       "id": "a2fc07fe-a184-4b0d-b8bc-67a068c1c2c2"
      }
     }
    },
    "e146fdbf-dbf9-43f6-81f9-cac0c46e3991": {
     "id": "e146fdbf-dbf9-43f6-81f9-cac0c46e3991",
     "prev": "9f014be0-ce51-47c9-bbb5-1434143990f8",
     "regions": {
      "9f557ca6-ac1a-4488-98c0-a3fb1c7cfe66": {
       "attrs": {
        "height": 0.8,
        "width": 0.8,
        "x": 0.1,
        "y": 0.1
       },
       "content": {
        "cell": "52d20b89-eae8-4a85-a79e-cfa5ca50dce7",
        "part": "whole"
       },
       "id": "9f557ca6-ac1a-4488-98c0-a3fb1c7cfe66"
      }
     }
    },
    "e79b0ac7-3254-4147-a0aa-8fb7bb5b535e": {
     "id": "e79b0ac7-3254-4147-a0aa-8fb7bb5b535e",
     "prev": "cebb1375-145f-4b55-b390-eea0a02be73d",
     "regions": {
      "a5e44d88-5b23-4545-b377-7cfcf557f44c": {
       "attrs": {
        "height": 0.8,
        "width": 0.8,
        "x": 0.1,
        "y": 0.1
       },
       "content": {
        "cell": "c9ae8d2d-70ac-498a-9101-136c4bf5d715",
        "part": "whole"
       },
       "id": "a5e44d88-5b23-4545-b377-7cfcf557f44c"
      }
     }
    },
    "e96c3a5a-b323-4e52-af9b-3a9a88d61f61": {
     "id": "e96c3a5a-b323-4e52-af9b-3a9a88d61f61",
     "prev": "1ba34106-5ba6-4953-88ab-5e197165628b",
     "regions": {
      "ae5b958e-7123-4706-b2ac-482990ebe078": {
       "attrs": {
        "height": 0.8,
        "width": 0.8,
        "x": 0.1,
        "y": 0.1
       },
       "content": {
        "cell": "a34cd77c-e478-4de3-85b1-487d77f3ad9b",
        "part": "whole"
       },
       "id": "ae5b958e-7123-4706-b2ac-482990ebe078"
      }
     }
    },
    "ec62cce7-60ec-45be-a31c-c89da645b98c": {
     "id": "ec62cce7-60ec-45be-a31c-c89da645b98c",
     "prev": "b4c2d503-38f7-496f-a443-5073c2d4b7c9",
     "regions": {
      "e06b8e5d-81ab-4c6e-9804-95e5ee147a74": {
       "attrs": {
        "height": 0.8,
        "width": 0.8,
        "x": 0.1,
        "y": 0.1
       },
       "content": {
        "cell": "5fc968ff-0b4b-4148-8ccf-eddbd4ff0d5e",
        "part": "whole"
       },
       "id": "e06b8e5d-81ab-4c6e-9804-95e5ee147a74"
      }
     }
    },
    "f317cb71-71ab-46ec-b703-31b479fbca1c": {
     "id": "f317cb71-71ab-46ec-b703-31b479fbca1c",
     "prev": "e146fdbf-dbf9-43f6-81f9-cac0c46e3991",
     "regions": {
      "e288f547-4d8d-44c1-8c7b-b6b9834144fc": {
       "attrs": {
        "height": 0.8,
        "width": 0.8,
        "x": 0.1,
        "y": 0.1
       },
       "content": {
        "cell": "ac48cb39-fe0c-49a8-94c5-045bea2fb049",
        "part": "whole"
       },
       "id": "e288f547-4d8d-44c1-8c7b-b6b9834144fc"
      }
     }
    }
   },
   "themes": {}
  }
 },
 "nbformat": 4,
 "nbformat_minor": 0
}
