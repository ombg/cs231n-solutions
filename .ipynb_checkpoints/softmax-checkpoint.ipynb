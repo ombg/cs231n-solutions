{
 "cells": [
  {
   "cell_type": "markdown",
   "metadata": {},
   "source": [
    "# Softmax exercise\n",
    "\n",
    "*Complete and hand in this completed worksheet (including its outputs and any supporting code outside of the worksheet) with your assignment submission. For more details see the [assignments page](http://vision.stanford.edu/teaching/cs231n/assignments.html) on the course website.*\n",
    "\n",
    "This exercise is analogous to the SVM exercise. You will:\n",
    "\n",
    "- implement a fully-vectorized **loss function** for the Softmax classifier\n",
    "- implement the fully-vectorized expression for its **analytic gradient**\n",
    "- **check your implementation** with numerical gradient\n",
    "- use a validation set to **tune the learning rate and regularization** strength\n",
    "- **optimize** the loss function with **SGD**\n",
    "- **visualize** the final learned weights\n"
   ]
  },
  {
   "cell_type": "code",
   "execution_count": 3,
   "metadata": {
    "collapsed": false
   },
   "outputs": [],
   "source": [
    "import random\n",
    "import numpy as np\n",
    "from cs231n.data_utils import load_CIFAR10\n",
    "import matplotlib.pyplot as plt\n",
    "%matplotlib inline\n",
    "plt.rcParams['figure.figsize'] = (10.0, 8.0) # set default size of plots\n",
    "plt.rcParams['image.interpolation'] = 'nearest'\n",
    "plt.rcParams['image.cmap'] = 'gray'\n",
    "\n",
    "# for auto-reloading extenrnal modules\n",
    "# see http://stackoverflow.com/questions/1907993/autoreload-of-modules-in-ipython\n",
    "%load_ext autoreload\n",
    "%autoreload 2"
   ]
  },
  {
   "cell_type": "code",
   "execution_count": 4,
   "metadata": {
    "collapsed": false
   },
   "outputs": [
    {
     "name": "stdout",
     "output_type": "stream",
     "text": [
      "Train data shape:  (49000, 3073)\n",
      "Train labels shape:  (49000,)\n",
      "Validation data shape:  (1000, 3073)\n",
      "Validation labels shape:  (1000,)\n",
      "Test data shape:  (1000, 3073)\n",
      "Test labels shape:  (1000,)\n",
      "dev data shape:  (500, 3073)\n",
      "dev labels shape:  (500,)\n"
     ]
    }
   ],
   "source": [
    "def get_CIFAR10_data(num_training=49000, num_validation=1000, num_test=1000, num_dev=500):\n",
    "  \"\"\"\n",
    "  Load the CIFAR-10 dataset from disk and perform preprocessing to prepare\n",
    "  it for the linear classifier. These are the same steps as we used for the\n",
    "  SVM, but condensed to a single function.  \n",
    "  \"\"\"\n",
    "  # Load the raw CIFAR-10 data\n",
    "  cifar10_dir = 'cs231n/datasets/cifar-10-batches-py'\n",
    "  X_train, y_train, X_test, y_test = load_CIFAR10(cifar10_dir)\n",
    "  \n",
    "  # subsample the data\n",
    "  mask = range(num_training, num_training + num_validation)\n",
    "  X_val = X_train[mask]\n",
    "  y_val = y_train[mask]\n",
    "  mask = range(num_training)\n",
    "  X_train = X_train[mask]\n",
    "  y_train = y_train[mask]\n",
    "  mask = range(num_test)\n",
    "  X_test = X_test[mask]\n",
    "  y_test = y_test[mask]\n",
    "  mask = np.random.choice(num_training, num_dev, replace=False)\n",
    "  X_dev = X_train[mask]\n",
    "  y_dev = y_train[mask]\n",
    "  \n",
    "  # Preprocessing: reshape the image data into rows\n",
    "  X_train = np.reshape(X_train, (X_train.shape[0], -1))\n",
    "  X_val = np.reshape(X_val, (X_val.shape[0], -1))\n",
    "  X_test = np.reshape(X_test, (X_test.shape[0], -1))\n",
    "  X_dev = np.reshape(X_dev, (X_dev.shape[0], -1))\n",
    "  \n",
    "  # Normalize the data: subtract the mean image\n",
    "  # It is along a row (axis=0) because you calculate the mean for a given pixel \n",
    "  # at every coordinate\n",
    "  mean_image = np.mean(X_train, axis = 0)\n",
    "  X_train -= mean_image\n",
    "  X_val -= mean_image\n",
    "  X_test -= mean_image\n",
    "  X_dev -= mean_image\n",
    "  \n",
    "  # add bias dimension and transform into columns\n",
    "  X_train = np.hstack([X_train, np.ones((X_train.shape[0], 1))])\n",
    "  X_val = np.hstack([X_val, np.ones((X_val.shape[0], 1))])\n",
    "  X_test = np.hstack([X_test, np.ones((X_test.shape[0], 1))])\n",
    "  X_dev = np.hstack([X_dev, np.ones((X_dev.shape[0], 1))])\n",
    "  \n",
    "  return X_train, y_train, X_val, y_val, X_test, y_test, X_dev, y_dev\n",
    "\n",
    "\n",
    "# Invoke the above function to get our data.\n",
    "X_train, y_train, X_val, y_val, X_test, y_test, X_dev, y_dev = get_CIFAR10_data()\n",
    "print('Train data shape: ', X_train.shape)\n",
    "print('Train labels shape: ', y_train.shape)\n",
    "print('Validation data shape: ', X_val.shape)\n",
    "print('Validation labels shape: ', y_val.shape)\n",
    "print('Test data shape: ', X_test.shape)\n",
    "print('Test labels shape: ', y_test.shape)\n",
    "print('dev data shape: ', X_dev.shape)\n",
    "print('dev labels shape: ', y_dev.shape)"
   ]
  },
  {
   "cell_type": "markdown",
   "metadata": {},
   "source": [
    "## Softmax Classifier\n",
    "\n",
    "Your code for this section will all be written inside **cs231n/classifiers/softmax.py**. \n"
   ]
  },
  {
   "cell_type": "code",
   "execution_count": 9,
   "metadata": {
    "collapsed": false
   },
   "outputs": [
    {
     "name": "stdout",
     "output_type": "stream",
     "text": [
      "loss: 2.327555\n",
      "sanity check: 2.302585\n"
     ]
    }
   ],
   "source": [
    "# First implement the naive softmax loss function with nested loops.\n",
    "# Open the file cs231n/classifiers/softmax.py and implement the\n",
    "# softmax_loss_naive function.\n",
    "\n",
    "from cs231n.classifiers.softmax import softmax_loss_naive\n",
    "import time\n",
    "\n",
    "# Generate a random softmax weight matrix and use it to compute the loss.\n",
    "W = np.random.randn(3073, 10) * 0.0001\n",
    "loss, grad = softmax_loss_naive(W, X_dev, y_dev, 0.0)\n",
    "\n",
    "# As a rough sanity check, our loss should be something close to -log(0.1).\n",
    "print ('loss: %f' % loss)\n",
    "print ('sanity check: %f' % (-np.log(0.1)))"
   ]
  },
  {
   "cell_type": "markdown",
   "metadata": {},
   "source": [
    "## Inline Question 1:\n",
    "Why do we expect our loss to be close to -log(0.1)? Explain briefly.**\n",
    "\n",
    "**Your answer:** *Fill this in*\n"
   ]
  },
  {
   "cell_type": "code",
   "execution_count": 13,
   "metadata": {
    "collapsed": false
   },
   "outputs": [
    {
     "name": "stdout",
     "output_type": "stream",
     "text": [
      "numerical: 0.295645 analytic: 0.295645, relative error: 1.373517e-07\n",
      "numerical: 2.030388 analytic: 2.030388, relative error: 2.361807e-08\n",
      "numerical: -2.444554 analytic: -2.444554, relative error: 1.230724e-08\n",
      "numerical: 2.026184 analytic: 2.026184, relative error: 1.164355e-09\n",
      "numerical: -0.975741 analytic: -0.975741, relative error: 1.083891e-08\n",
      "numerical: 2.012192 analytic: 2.012192, relative error: 1.961001e-08\n",
      "numerical: 2.123378 analytic: 2.123378, relative error: 1.048623e-08\n",
      "numerical: 1.070338 analytic: 1.070338, relative error: 5.030293e-08\n",
      "numerical: 0.767824 analytic: 0.767824, relative error: 5.999996e-08\n",
      "numerical: -3.895941 analytic: -3.895941, relative error: 1.066863e-09\n",
      "numerical: -2.957659 analytic: -2.957659, relative error: 1.223789e-09\n",
      "numerical: 1.953712 analytic: 1.953712, relative error: 2.014847e-08\n",
      "numerical: 0.750343 analytic: 0.750343, relative error: 1.454404e-08\n",
      "numerical: 0.833589 analytic: 0.833588, relative error: 6.271124e-08\n",
      "numerical: 0.145841 analytic: 0.145840, relative error: 4.406755e-07\n",
      "numerical: -0.490353 analytic: -0.490353, relative error: 8.620439e-08\n",
      "numerical: 1.310355 analytic: 1.310355, relative error: 9.637010e-10\n",
      "numerical: 1.966033 analytic: 1.966032, relative error: 4.956492e-08\n",
      "numerical: 0.171624 analytic: 0.171624, relative error: 3.495847e-07\n",
      "numerical: -3.440919 analytic: -3.440919, relative error: 1.461030e-08\n"
     ]
    }
   ],
   "source": [
    "# Complete the implementation of softmax_loss_naive and implement a (naive)\n",
    "# version of the gradient that uses nested loops.\n",
    "loss, grad = softmax_loss_naive(W, X_dev, y_dev, 0.0)\n",
    "\n",
    "# As we did for the SVM, use numeric gradient checking as a debugging tool.\n",
    "# The numeric gradient should be close to the analytic gradient.\n",
    "from cs231n.gradient_check import grad_check_sparse\n",
    "f = lambda w: softmax_loss_naive(w, X_dev, y_dev, 0.0)[0]\n",
    "grad_numerical = grad_check_sparse(f, W, grad, 10)\n",
    "\n",
    "# similar to SVM case, do another gradient check with regularization\n",
    "loss, grad = softmax_loss_naive(W, X_dev, y_dev, 1e2)\n",
    "f = lambda w: softmax_loss_naive(w, X_dev, y_dev, 1e2)[0]\n",
    "grad_numerical = grad_check_sparse(f, W, grad, 10)"
   ]
  },
  {
   "cell_type": "code",
   "execution_count": 15,
   "metadata": {
    "collapsed": false
   },
   "outputs": [
    {
     "name": "stdout",
     "output_type": "stream",
     "text": [
      "naive loss: 2.327555e+00 computed in 0.095225s\n",
      "vectorized loss: 2.327555e+00 computed in 0.003176s\n",
      "Loss difference: 0.000000\n",
      "Gradient difference: 0.000000\n"
     ]
    }
   ],
   "source": [
    "# Now that we have a naive implementation of the softmax loss function and its gradient,\n",
    "# implement a vectorized version in softmax_loss_vectorized.\n",
    "# The two versions should compute the same results, but the vectorized version should be\n",
    "# much faster.\n",
    "tic = time.time()\n",
    "loss_naive, grad_naive = softmax_loss_naive(W, X_dev, y_dev, 0.00001)\n",
    "toc = time.time()\n",
    "print( 'naive loss: %e computed in %fs' % (loss_naive, toc - tic))\n",
    "\n",
    "from cs231n.classifiers.softmax import softmax_loss_vectorized\n",
    "tic = time.time()\n",
    "loss_vectorized, grad_vectorized = softmax_loss_vectorized(W, X_dev, y_dev, 0.00001)\n",
    "toc = time.time()\n",
    "print ('vectorized loss: %e computed in %fs' % (loss_vectorized, toc - tic))\n",
    "\n",
    "# As we did for the SVM, we use the Frobenius norm to compare the two versions\n",
    "# of the gradient.\n",
    "grad_difference = np.linalg.norm(grad_naive - grad_vectorized, ord='fro')\n",
    "print( 'Loss difference: %f' % np.abs(loss_naive - loss_vectorized))\n",
    "print ('Gradient difference: %f' % grad_difference)"
   ]
  },
  {
   "cell_type": "code",
   "execution_count": 20,
   "metadata": {
    "collapsed": false
   },
   "outputs": [
    {
     "name": "stdout",
     "output_type": "stream",
     "text": [
      "iteration 0 / 1500: loss 777.054866\n",
      "iteration 100 / 1500: loss 285.242283\n",
      "iteration 200 / 1500: loss 105.664194\n",
      "iteration 300 / 1500: loss 40.046112\n",
      "iteration 400 / 1500: loss 15.912643\n",
      "iteration 500 / 1500: loss 7.103567\n",
      "iteration 600 / 1500: loss 3.933172\n",
      "iteration 700 / 1500: loss 2.814831\n",
      "iteration 800 / 1500: loss 2.430301\n",
      "iteration 900 / 1500: loss 2.154858\n",
      "iteration 1000 / 1500: loss 2.111229\n",
      "iteration 1100 / 1500: loss 2.146826\n",
      "iteration 1200 / 1500: loss 2.065600\n",
      "iteration 1300 / 1500: loss 2.066808\n",
      "iteration 1400 / 1500: loss 2.055259\n",
      "Training took 3.898926s\n",
      "Done. Lr: 1.000000e-07 | 5.000000e+04 | Val_acc: 0.349000 \n",
      "iteration 0 / 1500: loss 76775.650120\n",
      "iteration 100 / 1500: loss 2.293415\n",
      "iteration 200 / 1500: loss 2.299405\n",
      "iteration 300 / 1500: loss 2.296714\n",
      "iteration 400 / 1500: loss 2.297018\n",
      "iteration 500 / 1500: loss 2.297569\n",
      "iteration 600 / 1500: loss 2.298525\n",
      "iteration 700 / 1500: loss 2.292749\n",
      "iteration 800 / 1500: loss 2.292582\n",
      "iteration 900 / 1500: loss 2.296918\n",
      "iteration 1000 / 1500: loss 2.293542\n",
      "iteration 1100 / 1500: loss 2.293372\n",
      "iteration 1200 / 1500: loss 2.294077\n",
      "iteration 1300 / 1500: loss 2.299313\n",
      "iteration 1400 / 1500: loss 2.292627\n",
      "Training took 3.783044s\n",
      "Done. Lr: 1.000000e-07 | 5.000000e+06 | Val_acc: 0.233000 \n",
      "iteration 0 / 1500: loss 776.434948\n",
      "iteration 100 / 1500: loss 6.924707\n",
      "iteration 200 / 1500: loss 2.112111\n",
      "iteration 300 / 1500: loss 2.032295\n",
      "iteration 400 / 1500: loss 2.057186\n",
      "iteration 500 / 1500: loss 2.097499\n",
      "iteration 600 / 1500: loss 2.067528\n",
      "iteration 700 / 1500: loss 2.062589\n",
      "iteration 800 / 1500: loss 2.064227\n",
      "iteration 900 / 1500: loss 2.056745\n",
      "iteration 1000 / 1500: loss 2.065805\n",
      "iteration 1100 / 1500: loss 2.092546\n",
      "iteration 1200 / 1500: loss 2.062899\n",
      "iteration 1300 / 1500: loss 2.074381\n",
      "iteration 1400 / 1500: loss 2.041539\n",
      "Training took 3.783339s\n",
      "Done. Lr: 5.000000e-07 | 5.000000e+04 | Val_acc: 0.331000 \n",
      "iteration 0 / 1500: loss 76757.633273\n"
     ]
    },
    {
     "name": "stderr",
     "output_type": "stream",
     "text": [
      "/Users/oliver/projects/crowdnet/cs231n_course/cs231n/assignment1/cs231n/classifiers/softmax.py:82: RuntimeWarning: divide by zero encountered in log\n",
      "  loss = np.sum(-np.log(p[np.arange(num_train), y]))\n"
     ]
    },
    {
     "name": "stdout",
     "output_type": "stream",
     "text": [
      "iteration 100 / 1500: loss inf\n",
      "iteration 200 / 1500: loss inf\n",
      "iteration 300 / 1500: loss inf\n",
      "iteration 400 / 1500: loss inf\n",
      "iteration 500 / 1500: loss inf\n",
      "iteration 600 / 1500: loss inf\n",
      "iteration 700 / 1500: loss inf\n",
      "iteration 800 / 1500: loss inf\n"
     ]
    },
    {
     "name": "stderr",
     "output_type": "stream",
     "text": [
      "/Users/oliver/projects/crowdnet/cs231n_course/cs231n/assignment1/cs231n/classifiers/softmax.py:89: RuntimeWarning: overflow encountered in double_scalars\n",
      "  loss += 0.5 * reg * np.sum(W * W)\n",
      "/Users/oliver/projects/crowdnet/cs231n_course/cs231n/assignment1/cs231n/classifiers/softmax.py:89: RuntimeWarning: overflow encountered in multiply\n",
      "  loss += 0.5 * reg * np.sum(W * W)\n"
     ]
    },
    {
     "name": "stdout",
     "output_type": "stream",
     "text": [
      "iteration 900 / 1500: loss inf\n",
      "iteration 1000 / 1500: loss inf\n",
      "iteration 1100 / 1500: loss inf\n",
      "iteration 1200 / 1500: loss inf\n",
      "iteration 1300 / 1500: loss inf\n",
      "iteration 1400 / 1500: loss inf\n",
      "Training took 3.803945s\n",
      "Done. Lr: 5.000000e-07 | 5.000000e+06 | Val_acc: 0.099000 \n",
      "lr 1.000000e-07 reg 5.000000e+04 train accuracy: 0.336204 val accuracy: 0.349000\n",
      "lr 1.000000e-07 reg 5.000000e+06 train accuracy: 0.219061 val accuracy: 0.233000\n",
      "lr 5.000000e-07 reg 5.000000e+04 train accuracy: 0.318000 val accuracy: 0.331000\n",
      "lr 5.000000e-07 reg 5.000000e+06 train accuracy: 0.098306 val accuracy: 0.099000\n",
      "best validation accuracy achieved during cross-validation: 0.349000\n"
     ]
    }
   ],
   "source": [
    "# Use the validation set to tune hyperparameters (regularization strength and\n",
    "# learning rate). You should experiment with different ranges for the learning\n",
    "# rates and regularization strengths; if you are careful you should be able to\n",
    "# get a classification accuracy of over 0.35 on the validation set.\n",
    "from cs231n.classifiers import Softmax\n",
    "results = {}\n",
    "best_val = -1\n",
    "best_softmax = None\n",
    "learning_rates = [1e-8] # 1e-7\n",
    "regularization_strengths = [1e4, 1e6] # 5e4\n",
    "\n",
    "################################################################################\n",
    "# TODO:                                                                        #\n",
    "# Use the validation set to set the learning rate and regularization strength. #\n",
    "# This should be identical to the validation that you did for the SVM; save    #\n",
    "# the best trained softmax classifer in best_softmax.                          #\n",
    "################################################################################\n",
    "for lr in learning_rates:\n",
    "  for reg_it in regularization_strengths:\n",
    "    softmaxer = Softmax()\n",
    "    tic = time.time()\n",
    "    # Run training\n",
    "    loss_hist = softmaxer.train(X_train, y_train, learning_rate=lr, reg=reg_it,\n",
    "                          num_iters=1500, verbose=True)\n",
    "    toc = time.time()\n",
    "    print('Training took %fs' % (toc - tic))\n",
    "    # Prediction on training data\n",
    "    y_train_pred = softmaxer.predict(X_train)\n",
    "    training_accuracy = np.mean(y_train == y_train_pred)\n",
    "    \n",
    "    # Prediction on validation data\n",
    "    y_val_pred = softmaxer.predict(X_val)\n",
    "    validation_accuracy = np.mean(y_val == y_val_pred)\n",
    "    # Add results to dict. \n",
    "    results[(lr, reg_it)] = (training_accuracy, validation_accuracy)\n",
    "    \n",
    "    if validation_accuracy > best_val:\n",
    "      best_val = validation_accuracy\n",
    "      best_softmax = softmaxer\n",
    "    \n",
    "    print('Done. Lr: %e | %e | Val_acc: %f '% (lr, reg_it, validation_accuracy))\n",
    "    \n",
    "################################################################################\n",
    "#                              END OF YOUR CODE                                #\n",
    "################################################################################\n",
    "    \n",
    "# Print out results.\n",
    "for lr, reg in sorted(results):\n",
    "    train_accuracy, val_accuracy = results[(lr, reg)]\n",
    "    print ('lr %e reg %e train accuracy: %f val accuracy: %f' % (\n",
    "                lr, reg, train_accuracy, val_accuracy))\n",
    "    \n",
    "print ('best validation accuracy achieved during cross-validation: %f' % best_val)"
   ]
  },
  {
   "cell_type": "code",
   "execution_count": null,
   "metadata": {
    "collapsed": false
   },
   "outputs": [],
   "source": [
    "# evaluate on test set\n",
    "# Evaluate the best softmax on test set\n",
    "y_test_pred = best_softmax.predict(X_test)\n",
    "test_accuracy = np.mean(y_test == y_test_pred)\n",
    "print ('softmax on raw pixels final test set accuracy: %f' % (test_accuracy, ))"
   ]
  },
  {
   "cell_type": "code",
   "execution_count": null,
   "metadata": {
    "collapsed": false
   },
   "outputs": [],
   "source": [
    "# Visualize the learned weights for each class\n",
    "w = best_softmax.W[:-1,:] # strip out the bias\n",
    "w = w.reshape(32, 32, 3, 10)\n",
    "\n",
    "w_min, w_max = np.min(w), np.max(w)\n",
    "\n",
    "classes = ['plane', 'car', 'bird', 'cat', 'deer', 'dog', 'frog', 'horse', 'ship', 'truck']\n",
    "for i in xrange(10):\n",
    "  plt.subplot(2, 5, i + 1)\n",
    "  \n",
    "  # Rescale the weights to be between 0 and 255\n",
    "  wimg = 255.0 * (w[:, :, :, i].squeeze() - w_min) / (w_max - w_min)\n",
    "  plt.imshow(wimg.astype('uint8'))\n",
    "  plt.axis('off')\n",
    "  plt.title(classes[i])"
   ]
  }
 ],
 "metadata": {
  "anaconda-cloud": {},
  "kernelspec": {
   "display_name": "Python [default]",
   "language": "python",
   "name": "python3"
  },
  "language_info": {
   "codemirror_mode": {
    "name": "ipython",
    "version": 3
   },
   "file_extension": ".py",
   "mimetype": "text/x-python",
   "name": "python",
   "nbconvert_exporter": "python",
   "pygments_lexer": "ipython3",
   "version": "3.5.2"
  }
 },
 "nbformat": 4,
 "nbformat_minor": 0
}
